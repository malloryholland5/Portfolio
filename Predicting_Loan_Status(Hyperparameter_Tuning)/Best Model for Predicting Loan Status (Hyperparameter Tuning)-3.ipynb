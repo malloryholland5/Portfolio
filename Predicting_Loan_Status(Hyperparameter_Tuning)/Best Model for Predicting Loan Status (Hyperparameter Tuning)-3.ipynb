{
 "cells": [
  {
   "cell_type": "markdown",
   "id": "a90e7b63",
   "metadata": {},
   "source": [
    "### Best Model for Predicting Loan Status (Use Hyperparameter Tuning)"
   ]
  },
  {
   "cell_type": "markdown",
   "id": "4a460a16",
   "metadata": {},
   "source": [
    "This project predicts whether a loan will be approved.\n",
    "After dropping the ID column, removing incomplete rows, and one-hot–encoding categorical features, I compared three classifiers inside a scikit-learn pipeline: K-Nearest Neighbors, Logistic Regression, and Random Forest. Hyper-parameter grids and five-fold cross-validation. Logistic Regression had the best accuracy with about 80%."
   ]
  },
  {
   "cell_type": "code",
   "execution_count": 1,
   "id": "e826aee1",
   "metadata": {},
   "outputs": [],
   "source": [
    "# Import packages\n",
    "import pandas as pd\n",
    "from sklearn.model_selection import train_test_split\n",
    "from sklearn.preprocessing import MinMaxScaler\n",
    "from sklearn.model_selection import GridSearchCV\n",
    "from sklearn.pipeline import Pipeline, FeatureUnion\n",
    "from sklearn.neighbors import KNeighborsClassifier\n",
    "from sklearn.linear_model import LogisticRegression\n",
    "from sklearn.ensemble import RandomForestClassifier\n",
    "import numpy as np\n",
    "from sklearn.metrics import accuracy_score"
   ]
  },
  {
   "cell_type": "code",
   "execution_count": 2,
   "id": "8d4e2f3c",
   "metadata": {},
   "outputs": [],
   "source": [
    "# Read CSV\n",
    "data = pd.read_csv('/Users/Malloryh5/Downloads/Loan_Train.csv')"
   ]
  },
  {
   "cell_type": "code",
   "execution_count": 3,
   "id": "94fca15f",
   "metadata": {},
   "outputs": [
    {
     "data": {
      "text/html": [
       "<div>\n",
       "<style scoped>\n",
       "    .dataframe tbody tr th:only-of-type {\n",
       "        vertical-align: middle;\n",
       "    }\n",
       "\n",
       "    .dataframe tbody tr th {\n",
       "        vertical-align: top;\n",
       "    }\n",
       "\n",
       "    .dataframe thead th {\n",
       "        text-align: right;\n",
       "    }\n",
       "</style>\n",
       "<table border=\"1\" class=\"dataframe\">\n",
       "  <thead>\n",
       "    <tr style=\"text-align: right;\">\n",
       "      <th></th>\n",
       "      <th>Loan_ID</th>\n",
       "      <th>Gender</th>\n",
       "      <th>Married</th>\n",
       "      <th>Dependents</th>\n",
       "      <th>Education</th>\n",
       "      <th>Self_Employed</th>\n",
       "      <th>ApplicantIncome</th>\n",
       "      <th>CoapplicantIncome</th>\n",
       "      <th>LoanAmount</th>\n",
       "      <th>Loan_Amount_Term</th>\n",
       "      <th>Credit_History</th>\n",
       "      <th>Property_Area</th>\n",
       "      <th>Loan_Status</th>\n",
       "    </tr>\n",
       "  </thead>\n",
       "  <tbody>\n",
       "    <tr>\n",
       "      <th>0</th>\n",
       "      <td>LP001002</td>\n",
       "      <td>Male</td>\n",
       "      <td>No</td>\n",
       "      <td>0</td>\n",
       "      <td>Graduate</td>\n",
       "      <td>No</td>\n",
       "      <td>5849</td>\n",
       "      <td>0.0</td>\n",
       "      <td>NaN</td>\n",
       "      <td>360.0</td>\n",
       "      <td>1.0</td>\n",
       "      <td>Urban</td>\n",
       "      <td>Y</td>\n",
       "    </tr>\n",
       "    <tr>\n",
       "      <th>1</th>\n",
       "      <td>LP001003</td>\n",
       "      <td>Male</td>\n",
       "      <td>Yes</td>\n",
       "      <td>1</td>\n",
       "      <td>Graduate</td>\n",
       "      <td>No</td>\n",
       "      <td>4583</td>\n",
       "      <td>1508.0</td>\n",
       "      <td>128.0</td>\n",
       "      <td>360.0</td>\n",
       "      <td>1.0</td>\n",
       "      <td>Rural</td>\n",
       "      <td>N</td>\n",
       "    </tr>\n",
       "    <tr>\n",
       "      <th>2</th>\n",
       "      <td>LP001005</td>\n",
       "      <td>Male</td>\n",
       "      <td>Yes</td>\n",
       "      <td>0</td>\n",
       "      <td>Graduate</td>\n",
       "      <td>Yes</td>\n",
       "      <td>3000</td>\n",
       "      <td>0.0</td>\n",
       "      <td>66.0</td>\n",
       "      <td>360.0</td>\n",
       "      <td>1.0</td>\n",
       "      <td>Urban</td>\n",
       "      <td>Y</td>\n",
       "    </tr>\n",
       "    <tr>\n",
       "      <th>3</th>\n",
       "      <td>LP001006</td>\n",
       "      <td>Male</td>\n",
       "      <td>Yes</td>\n",
       "      <td>0</td>\n",
       "      <td>Not Graduate</td>\n",
       "      <td>No</td>\n",
       "      <td>2583</td>\n",
       "      <td>2358.0</td>\n",
       "      <td>120.0</td>\n",
       "      <td>360.0</td>\n",
       "      <td>1.0</td>\n",
       "      <td>Urban</td>\n",
       "      <td>Y</td>\n",
       "    </tr>\n",
       "    <tr>\n",
       "      <th>4</th>\n",
       "      <td>LP001008</td>\n",
       "      <td>Male</td>\n",
       "      <td>No</td>\n",
       "      <td>0</td>\n",
       "      <td>Graduate</td>\n",
       "      <td>No</td>\n",
       "      <td>6000</td>\n",
       "      <td>0.0</td>\n",
       "      <td>141.0</td>\n",
       "      <td>360.0</td>\n",
       "      <td>1.0</td>\n",
       "      <td>Urban</td>\n",
       "      <td>Y</td>\n",
       "    </tr>\n",
       "  </tbody>\n",
       "</table>\n",
       "</div>"
      ],
      "text/plain": [
       "    Loan_ID Gender Married Dependents     Education Self_Employed  \\\n",
       "0  LP001002   Male      No          0      Graduate            No   \n",
       "1  LP001003   Male     Yes          1      Graduate            No   \n",
       "2  LP001005   Male     Yes          0      Graduate           Yes   \n",
       "3  LP001006   Male     Yes          0  Not Graduate            No   \n",
       "4  LP001008   Male      No          0      Graduate            No   \n",
       "\n",
       "   ApplicantIncome  CoapplicantIncome  LoanAmount  Loan_Amount_Term  \\\n",
       "0             5849                0.0         NaN             360.0   \n",
       "1             4583             1508.0       128.0             360.0   \n",
       "2             3000                0.0        66.0             360.0   \n",
       "3             2583             2358.0       120.0             360.0   \n",
       "4             6000                0.0       141.0             360.0   \n",
       "\n",
       "   Credit_History Property_Area Loan_Status  \n",
       "0             1.0         Urban           Y  \n",
       "1             1.0         Rural           N  \n",
       "2             1.0         Urban           Y  \n",
       "3             1.0         Urban           Y  \n",
       "4             1.0         Urban           Y  "
      ]
     },
     "execution_count": 3,
     "metadata": {},
     "output_type": "execute_result"
    }
   ],
   "source": [
    "# Check File\n",
    "data.head()"
   ]
  },
  {
   "cell_type": "code",
   "execution_count": 4,
   "id": "689c3f6e",
   "metadata": {},
   "outputs": [],
   "source": [
    "# Drop Loan_ID\n",
    "data = data.drop(columns='Loan_ID')"
   ]
  },
  {
   "cell_type": "code",
   "execution_count": 5,
   "id": "439d6b4f",
   "metadata": {},
   "outputs": [],
   "source": [
    "# Drop rows with missing data\n",
    "data = data.dropna(axis=0)"
   ]
  },
  {
   "cell_type": "code",
   "execution_count": 6,
   "id": "b6f7c2f5",
   "metadata": {},
   "outputs": [],
   "source": [
    "# Convert categorical variables into dummy variables\n",
    "data = pd.get_dummies(data, drop_first=True)"
   ]
  },
  {
   "cell_type": "code",
   "execution_count": 7,
   "id": "c71ccfcf",
   "metadata": {},
   "outputs": [
    {
     "data": {
      "text/html": [
       "<div>\n",
       "<style scoped>\n",
       "    .dataframe tbody tr th:only-of-type {\n",
       "        vertical-align: middle;\n",
       "    }\n",
       "\n",
       "    .dataframe tbody tr th {\n",
       "        vertical-align: top;\n",
       "    }\n",
       "\n",
       "    .dataframe thead th {\n",
       "        text-align: right;\n",
       "    }\n",
       "</style>\n",
       "<table border=\"1\" class=\"dataframe\">\n",
       "  <thead>\n",
       "    <tr style=\"text-align: right;\">\n",
       "      <th></th>\n",
       "      <th>ApplicantIncome</th>\n",
       "      <th>CoapplicantIncome</th>\n",
       "      <th>LoanAmount</th>\n",
       "      <th>Loan_Amount_Term</th>\n",
       "      <th>Credit_History</th>\n",
       "      <th>Gender_Male</th>\n",
       "      <th>Married_Yes</th>\n",
       "      <th>Dependents_1</th>\n",
       "      <th>Dependents_2</th>\n",
       "      <th>Dependents_3+</th>\n",
       "      <th>Education_Not Graduate</th>\n",
       "      <th>Self_Employed_Yes</th>\n",
       "      <th>Property_Area_Semiurban</th>\n",
       "      <th>Property_Area_Urban</th>\n",
       "      <th>Loan_Status_Y</th>\n",
       "    </tr>\n",
       "  </thead>\n",
       "  <tbody>\n",
       "    <tr>\n",
       "      <th>1</th>\n",
       "      <td>4583</td>\n",
       "      <td>1508.0</td>\n",
       "      <td>128.0</td>\n",
       "      <td>360.0</td>\n",
       "      <td>1.0</td>\n",
       "      <td>True</td>\n",
       "      <td>True</td>\n",
       "      <td>True</td>\n",
       "      <td>False</td>\n",
       "      <td>False</td>\n",
       "      <td>False</td>\n",
       "      <td>False</td>\n",
       "      <td>False</td>\n",
       "      <td>False</td>\n",
       "      <td>False</td>\n",
       "    </tr>\n",
       "    <tr>\n",
       "      <th>2</th>\n",
       "      <td>3000</td>\n",
       "      <td>0.0</td>\n",
       "      <td>66.0</td>\n",
       "      <td>360.0</td>\n",
       "      <td>1.0</td>\n",
       "      <td>True</td>\n",
       "      <td>True</td>\n",
       "      <td>False</td>\n",
       "      <td>False</td>\n",
       "      <td>False</td>\n",
       "      <td>False</td>\n",
       "      <td>True</td>\n",
       "      <td>False</td>\n",
       "      <td>True</td>\n",
       "      <td>True</td>\n",
       "    </tr>\n",
       "    <tr>\n",
       "      <th>3</th>\n",
       "      <td>2583</td>\n",
       "      <td>2358.0</td>\n",
       "      <td>120.0</td>\n",
       "      <td>360.0</td>\n",
       "      <td>1.0</td>\n",
       "      <td>True</td>\n",
       "      <td>True</td>\n",
       "      <td>False</td>\n",
       "      <td>False</td>\n",
       "      <td>False</td>\n",
       "      <td>True</td>\n",
       "      <td>False</td>\n",
       "      <td>False</td>\n",
       "      <td>True</td>\n",
       "      <td>True</td>\n",
       "    </tr>\n",
       "    <tr>\n",
       "      <th>4</th>\n",
       "      <td>6000</td>\n",
       "      <td>0.0</td>\n",
       "      <td>141.0</td>\n",
       "      <td>360.0</td>\n",
       "      <td>1.0</td>\n",
       "      <td>True</td>\n",
       "      <td>False</td>\n",
       "      <td>False</td>\n",
       "      <td>False</td>\n",
       "      <td>False</td>\n",
       "      <td>False</td>\n",
       "      <td>False</td>\n",
       "      <td>False</td>\n",
       "      <td>True</td>\n",
       "      <td>True</td>\n",
       "    </tr>\n",
       "    <tr>\n",
       "      <th>5</th>\n",
       "      <td>5417</td>\n",
       "      <td>4196.0</td>\n",
       "      <td>267.0</td>\n",
       "      <td>360.0</td>\n",
       "      <td>1.0</td>\n",
       "      <td>True</td>\n",
       "      <td>True</td>\n",
       "      <td>False</td>\n",
       "      <td>True</td>\n",
       "      <td>False</td>\n",
       "      <td>False</td>\n",
       "      <td>True</td>\n",
       "      <td>False</td>\n",
       "      <td>True</td>\n",
       "      <td>True</td>\n",
       "    </tr>\n",
       "  </tbody>\n",
       "</table>\n",
       "</div>"
      ],
      "text/plain": [
       "   ApplicantIncome  CoapplicantIncome  LoanAmount  Loan_Amount_Term  \\\n",
       "1             4583             1508.0       128.0             360.0   \n",
       "2             3000                0.0        66.0             360.0   \n",
       "3             2583             2358.0       120.0             360.0   \n",
       "4             6000                0.0       141.0             360.0   \n",
       "5             5417             4196.0       267.0             360.0   \n",
       "\n",
       "   Credit_History  Gender_Male  Married_Yes  Dependents_1  Dependents_2  \\\n",
       "1             1.0         True         True          True         False   \n",
       "2             1.0         True         True         False         False   \n",
       "3             1.0         True         True         False         False   \n",
       "4             1.0         True        False         False         False   \n",
       "5             1.0         True         True         False          True   \n",
       "\n",
       "   Dependents_3+  Education_Not Graduate  Self_Employed_Yes  \\\n",
       "1          False                   False              False   \n",
       "2          False                   False               True   \n",
       "3          False                    True              False   \n",
       "4          False                   False              False   \n",
       "5          False                   False               True   \n",
       "\n",
       "   Property_Area_Semiurban  Property_Area_Urban  Loan_Status_Y  \n",
       "1                    False                False          False  \n",
       "2                    False                 True           True  \n",
       "3                    False                 True           True  \n",
       "4                    False                 True           True  \n",
       "5                    False                 True           True  "
      ]
     },
     "execution_count": 7,
     "metadata": {},
     "output_type": "execute_result"
    }
   ],
   "source": [
    "# Check Data\n",
    "data.head()"
   ]
  },
  {
   "cell_type": "code",
   "execution_count": 8,
   "id": "995a48d6",
   "metadata": {},
   "outputs": [],
   "source": [
    "# dependant and independant variables\n",
    "X = data.drop(columns=\"Loan_Status_Y\")\n",
    "y = data['Loan_Status_Y']"
   ]
  },
  {
   "cell_type": "code",
   "execution_count": 9,
   "id": "1aa59e4b",
   "metadata": {},
   "outputs": [],
   "source": [
    "# Split data into test data\n",
    "X_test, X_train, y_test, y_train = train_test_split(X,y, test_size=.2, random_state=42)"
   ]
  },
  {
   "cell_type": "code",
   "execution_count": 10,
   "id": "56eff082",
   "metadata": {},
   "outputs": [],
   "source": [
    "# Allow  min max standardizer\n",
    "min_max = MinMaxScaler()"
   ]
  },
  {
   "cell_type": "code",
   "execution_count": 11,
   "id": "d35ead72",
   "metadata": {},
   "outputs": [],
   "source": [
    "# Allow knn classifier\n",
    "knn = KNeighborsClassifier(n_neighbors=10, n_jobs=-1)"
   ]
  },
  {
   "cell_type": "code",
   "execution_count": 12,
   "id": "a3d84830",
   "metadata": {},
   "outputs": [],
   "source": [
    "# Create a pipeline with min_max scaler and knn\n",
    "pipe = Pipeline([('Scaler', min_max), ('knn', knn)])"
   ]
  },
  {
   "cell_type": "code",
   "execution_count": 13,
   "id": "e479f5e7",
   "metadata": {},
   "outputs": [
    {
     "name": "stdout",
     "output_type": "stream",
     "text": [
      "Pipeline(steps=[('Scaler', MinMaxScaler()),\n",
      "                ('knn', KNeighborsClassifier(n_jobs=-1, n_neighbors=10))])\n"
     ]
    }
   ],
   "source": [
    "# Fit the pipline to train data\n",
    "print(pipe.fit(X_train, y_train))"
   ]
  },
  {
   "cell_type": "code",
   "execution_count": 14,
   "id": "4aba685f",
   "metadata": {},
   "outputs": [],
   "source": [
    "# predict y\n",
    "y_pred_knn = pipe.predict(X_test)"
   ]
  },
  {
   "cell_type": "code",
   "execution_count": 15,
   "id": "36363cc2",
   "metadata": {},
   "outputs": [
    {
     "name": "stdout",
     "output_type": "stream",
     "text": [
      "KNN Accuracy:  72.39999999999999 %\n"
     ]
    }
   ],
   "source": [
    "# Accuracy\n",
    "print('KNN Accuracy: ', round(accuracy_score(y_test, y_pred_knn),3)*100, \"%\")"
   ]
  },
  {
   "cell_type": "code",
   "execution_count": 16,
   "id": "e048b5bb",
   "metadata": {},
   "outputs": [],
   "source": [
    "# Create search space for knn. set n_neighbors to range 1-10.\n",
    "search_sp = {'knn__n_neighbors': list(range(1,11))}"
   ]
  },
  {
   "cell_type": "code",
   "execution_count": 17,
   "id": "6bfb66cd",
   "metadata": {},
   "outputs": [],
   "source": [
    "# Fit grid search to pipeline\n",
    "fit_grid_pipe = GridSearchCV(pipe, search_sp, cv=5, verbose=0).fit(X_train,y_train)"
   ]
  },
  {
   "cell_type": "code",
   "execution_count": 18,
   "id": "a041292f",
   "metadata": {},
   "outputs": [
    {
     "name": "stdout",
     "output_type": "stream",
     "text": [
      "Pipeline(steps=[('Scaler', MinMaxScaler()),\n",
      "                ('knn', KNeighborsClassifier(n_jobs=-1, n_neighbors=8))])\n",
      "{'knn__n_neighbors': 8}\n"
     ]
    }
   ],
   "source": [
    "# Print best fit\n",
    "print(fit_grid_pipe.best_estimator_)\n",
    "print(fit_grid_pipe.best_params_)"
   ]
  },
  {
   "cell_type": "code",
   "execution_count": 19,
   "id": "b4d3e287",
   "metadata": {},
   "outputs": [],
   "source": [
    "# y_prdict with best fit model\n",
    "y_best_pred = fit_grid_pipe.predict(X_train)"
   ]
  },
  {
   "cell_type": "code",
   "execution_count": 20,
   "id": "6b7adfe2",
   "metadata": {},
   "outputs": [
    {
     "name": "stdout",
     "output_type": "stream",
     "text": [
      "KNN Best Fit Accuracy:  74.0 %\n"
     ]
    }
   ],
   "source": [
    "#Accuracy of best fit\n",
    "print('KNN Best Fit Accuracy: ', round(accuracy_score(y_train, y_best_pred),3)*100, \"%\")"
   ]
  },
  {
   "cell_type": "code",
   "execution_count": 21,
   "id": "d02f788b",
   "metadata": {},
   "outputs": [],
   "source": [
    "# Allow logistic Regression\n",
    "logistic_r = LogisticRegression()"
   ]
  },
  {
   "cell_type": "code",
   "execution_count": 22,
   "id": "32fc9609",
   "metadata": {},
   "outputs": [],
   "source": [
    "# Create pipeline\n",
    "pipe_random_f = Pipeline([\n",
    "    ('scaler', MinMaxScaler()),\n",
    "    ('classifier', KNeighborsClassifier())\n",
    "                   ])"
   ]
  },
  {
   "cell_type": "code",
   "execution_count": 23,
   "id": "20a3a703",
   "metadata": {},
   "outputs": [],
   "source": [
    "# Seach space for random forest and logistic regression\n",
    "search_sp_lrf = [\n",
    "    {'classifier': [KNeighborsClassifier()],\n",
    "     'classifier__n_neighbors': list(range(1,11))\n",
    "    },\n",
    "    {'classifier': [LogisticRegression(max_iter=500, solver='liblinear')],\n",
    "     'classifier__penalty':['l1', 'l2'],\n",
    "     'classifier__C': np.logspace(0,4,10)\n",
    "    },\n",
    "    {'classifier': [RandomForestClassifier()],\n",
    "     'classifier__n_estimators': [10,100,1000],\n",
    "     'classifier__max_features':[1,2,3]\n",
    "    }]"
   ]
  },
  {
   "cell_type": "code",
   "execution_count": 24,
   "id": "82d168a3",
   "metadata": {},
   "outputs": [],
   "source": [
    "# Make grid search for logistic regression and random forest\n",
    "grid_s_m = GridSearchCV(pipe_random_f, search_sp_lrf, cv=5, verbose=0)"
   ]
  },
  {
   "cell_type": "code",
   "execution_count": 30,
   "id": "c1b25752",
   "metadata": {},
   "outputs": [],
   "source": [
    "# fit the model\n",
    "best_model = grid_s_m.fit(X_train,y_train);"
   ]
  },
  {
   "cell_type": "code",
   "execution_count": 26,
   "id": "12b9bea3",
   "metadata": {},
   "outputs": [
    {
     "name": "stdout",
     "output_type": "stream",
     "text": [
      "Pipeline(steps=[('scaler', MinMaxScaler()),\n",
      "                ('classifier',\n",
      "                 LogisticRegression(max_iter=500, penalty='l1',\n",
      "                                    solver='liblinear'))])\n",
      "{'classifier': LogisticRegression(max_iter=500, solver='liblinear'), 'classifier__C': 1.0, 'classifier__penalty': 'l1'}\n"
     ]
    }
   ],
   "source": [
    "# print results\n",
    "print(best_model.best_estimator_)\n",
    "print(best_model.best_params_)"
   ]
  },
  {
   "cell_type": "code",
   "execution_count": 27,
   "id": "b5a1a4e9",
   "metadata": {},
   "outputs": [],
   "source": [
    "# Find accuracy\n",
    "# best model test\n",
    "best_model_test = best_model.best_estimator_"
   ]
  },
  {
   "cell_type": "code",
   "execution_count": 28,
   "id": "128a76dc",
   "metadata": {},
   "outputs": [],
   "source": [
    "# predict y\n",
    "y_pred_m = best_model_test.predict(X_test)"
   ]
  },
  {
   "cell_type": "code",
   "execution_count": 29,
   "id": "fae1cab2",
   "metadata": {},
   "outputs": [
    {
     "name": "stdout",
     "output_type": "stream",
     "text": [
      "Accuracy Score:  80.2 %\n"
     ]
    }
   ],
   "source": [
    "# Accuracy score\n",
    "print('Accuracy Score: ', round(accuracy_score(y_test, y_pred_m),3)*100,\"%\")"
   ]
  },
  {
   "cell_type": "markdown",
   "id": "c9add1ba",
   "metadata": {},
   "source": [
    "**KNN Classifier Accuracy:** The KNN accuracy was the lowest at 72.4%. <br>\n",
    "**KNN Model Accuracy:** Although better than the KNN classifier, the KNN model accuracy score was still is not bad, but type grid search to see if there is a better model.<br>\n",
    "**Model and Hyperparameters Accuracy:** Of all three models, Logistic Regression was the best model to use. The classifier C is 1, which means it is a good, not overfitted, model. The accuracy score is over 6% higher than the KNN model at 80.2%."
   ]
  },
  {
   "cell_type": "code",
   "execution_count": null,
   "id": "666b84f4",
   "metadata": {},
   "outputs": [],
   "source": []
  }
 ],
 "metadata": {
  "kernelspec": {
   "display_name": "Python 3 (ipykernel)",
   "language": "python",
   "name": "python3"
  },
  "language_info": {
   "codemirror_mode": {
    "name": "ipython",
    "version": 3
   },
   "file_extension": ".py",
   "mimetype": "text/x-python",
   "name": "python",
   "nbconvert_exporter": "python",
   "pygments_lexer": "ipython3",
   "version": "3.11.5"
  }
 },
 "nbformat": 4,
 "nbformat_minor": 5
}
