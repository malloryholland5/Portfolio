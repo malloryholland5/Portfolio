{
 "cells": [
  {
   "cell_type": "markdown",
   "id": "bbd40110",
   "metadata": {},
   "source": [
    "## Does R&D Spending Improve Revenue for Companies?"
   ]
  },
  {
   "cell_type": "code",
   "execution_count": 1,
   "id": "d0601dc6",
   "metadata": {},
   "outputs": [],
   "source": [
    "#Packages\n",
    "import pandas as pd\n",
    "import numpy as np\n",
    "import pandas as pd\n",
    "import requests\n",
    "import matplotlib.pyplot as plt\n",
    "import time\n",
    "import seaborn as sns\n",
    "from sklearn.model_selection import train_test_split\n",
    "from sklearn.metrics import mean_absolute_error, mean_squared_error, r2_score\n",
    "from sklearn.ensemble import RandomForestRegressor, GradientBoostingRegressor\n",
    "from sklearn.preprocessing import RobustScaler, StandardScaler\n",
    "import statsmodels.api as sm\n",
    "from sklearn.cluster import KMeans"
   ]
  },
  {
   "cell_type": "markdown",
   "id": "5525c1d1",
   "metadata": {},
   "source": [
    "### Data Preparation"
   ]
  },
  {
   "cell_type": "markdown",
   "id": "a255a3d8",
   "metadata": {},
   "source": [
    "#### Pull Data - API"
   ]
  },
  {
   "cell_type": "code",
   "execution_count": 2,
   "id": "7f5167e4",
   "metadata": {},
   "outputs": [],
   "source": [
    "# Header to pull API\n",
    "headers = {'User-Agent': 'DSC680-project'}"
   ]
  },
  {
   "cell_type": "code",
   "execution_count": 3,
   "id": "b178f04d",
   "metadata": {},
   "outputs": [],
   "source": [
    "# Needed data\n",
    "metrics = {'Revenue': 'Revenues',\n",
    "           'R&D': 'ResearchAndDevelopmentExpense',\n",
    "           'Net_Income': 'NetIncomeLoss'}"
   ]
  },
  {
   "cell_type": "code",
   "execution_count": 4,
   "id": "394ddcbc",
   "metadata": {},
   "outputs": [],
   "source": [
    "# Range\n",
    "years = range(2008, 2023) "
   ]
  },
  {
   "cell_type": "code",
   "execution_count": 5,
   "id": "225e6cd6",
   "metadata": {},
   "outputs": [],
   "source": [
    "# Empty dictionary\n",
    "data = {}"
   ]
  },
  {
   "cell_type": "code",
   "execution_count": 6,
   "id": "b97b6b0d",
   "metadata": {},
   "outputs": [],
   "source": [
    "# For loop to download each metric\n",
    "for label, metric in metrics.items():\n",
    "    # Empty list for each row\n",
    "    rows = []\n",
    "    \n",
    "    \n",
    "    # For loop to download each year for each company\n",
    "    for year in years:\n",
    "        # API - Change link for each matric and year\n",
    "        url = f'https://data.sec.gov/api/xbrl/frames/us-gaap/{metric}/USD/CY{year}.json'\n",
    "        # Request API\n",
    "        response = requests.get(url, headers=headers)\n",
    "        \n",
    "        \n",
    "        # Make sure request worked\n",
    "        if response.status_code == 200:\n",
    "            # Make webdata into dict\n",
    "            data_pull = response.json()\n",
    "            # Pull general account info for each company\n",
    "            data_pull = data_pull['data']\n",
    "            \n",
    "            \n",
    "            # For loop to store each company for each year\n",
    "            for entry in data_pull:\n",
    "                # Store only the wanted data\n",
    "                rows.append({\n",
    "                    # Company ID\n",
    "                    'Company_ID': entry.get('cik'),\n",
    "                    # Company Name\n",
    "                    'Company_Name': entry.get('entityName'),\n",
    "                    # Year\n",
    "                    'Year': year,\n",
    "                    # Metrics\n",
    "                    label: entry.get('val'),\n",
    "                    # Date it was filled\n",
    "                    'Filing_Date': entry.get('end')})\n",
    "        else:\n",
    "            # Print Failer notice if it does not work\n",
    "            print(\"Failed to retrieve\")\n",
    "    # Add\n",
    "    time.sleep(0.15)\n",
    "    \n",
    "    # Make all metrics into data frames\n",
    "    data[label] = pd.DataFrame(rows)"
   ]
  },
  {
   "cell_type": "code",
   "execution_count": 7,
   "id": "6c1412b9",
   "metadata": {},
   "outputs": [],
   "source": [
    "# Merge all three metrics into one dataframe\n",
    "data_1 = data['Revenue'].merge(\n",
    "    data['R&D'], on=['Company_ID', 'Company_Name', 'Year', 'Filing_Date'], \n",
    "    how='outer').merge(data['Net_Income'], on=['Company_ID', 'Company_Name', \n",
    "                                               'Year', 'Filing_Date'], how='outer')"
   ]
  },
  {
   "cell_type": "code",
   "execution_count": 8,
   "id": "8dff5d2e",
   "metadata": {},
   "outputs": [
    {
     "data": {
      "text/html": [
       "<div>\n",
       "<style scoped>\n",
       "    .dataframe tbody tr th:only-of-type {\n",
       "        vertical-align: middle;\n",
       "    }\n",
       "\n",
       "    .dataframe tbody tr th {\n",
       "        vertical-align: top;\n",
       "    }\n",
       "\n",
       "    .dataframe thead th {\n",
       "        text-align: right;\n",
       "    }\n",
       "</style>\n",
       "<table border=\"1\" class=\"dataframe\">\n",
       "  <thead>\n",
       "    <tr style=\"text-align: right;\">\n",
       "      <th></th>\n",
       "      <th>Company_ID</th>\n",
       "      <th>Company_Name</th>\n",
       "      <th>Year</th>\n",
       "      <th>Revenue</th>\n",
       "      <th>Filing_Date</th>\n",
       "      <th>R&amp;D</th>\n",
       "      <th>Net_Income</th>\n",
       "    </tr>\n",
       "  </thead>\n",
       "  <tbody>\n",
       "    <tr>\n",
       "      <th>0</th>\n",
       "      <td>864328</td>\n",
       "      <td>BJ SERVICES CO</td>\n",
       "      <td>2008</td>\n",
       "      <td>5.359077e+09</td>\n",
       "      <td>2008-09-30</td>\n",
       "      <td>7.199700e+07</td>\n",
       "      <td>6.093650e+08</td>\n",
       "    </tr>\n",
       "    <tr>\n",
       "      <th>1</th>\n",
       "      <td>64978</td>\n",
       "      <td>MERCK SHARP &amp; DOHME CORP.</td>\n",
       "      <td>2008</td>\n",
       "      <td>2.385030e+10</td>\n",
       "      <td>2008-12-31</td>\n",
       "      <td>4.805300e+09</td>\n",
       "      <td>7.808400e+09</td>\n",
       "    </tr>\n",
       "    <tr>\n",
       "      <th>2</th>\n",
       "      <td>1335793</td>\n",
       "      <td>CNX GAS CORP</td>\n",
       "      <td>2008</td>\n",
       "      <td>7.894210e+08</td>\n",
       "      <td>2008-12-31</td>\n",
       "      <td>NaN</td>\n",
       "      <td>2.390730e+08</td>\n",
       "    </tr>\n",
       "    <tr>\n",
       "      <th>3</th>\n",
       "      <td>868809</td>\n",
       "      <td>XTO ENERGY INC</td>\n",
       "      <td>2008</td>\n",
       "      <td>7.695000e+09</td>\n",
       "      <td>2008-12-31</td>\n",
       "      <td>NaN</td>\n",
       "      <td>1.912000e+09</td>\n",
       "    </tr>\n",
       "    <tr>\n",
       "      <th>4</th>\n",
       "      <td>1094316</td>\n",
       "      <td>TRINTECH GROUP PLC</td>\n",
       "      <td>2008</td>\n",
       "      <td>3.966400e+07</td>\n",
       "      <td>2009-01-31</td>\n",
       "      <td>6.069000e+06</td>\n",
       "      <td>-1.232000e+06</td>\n",
       "    </tr>\n",
       "    <tr>\n",
       "      <th>...</th>\n",
       "      <td>...</td>\n",
       "      <td>...</td>\n",
       "      <td>...</td>\n",
       "      <td>...</td>\n",
       "      <td>...</td>\n",
       "      <td>...</td>\n",
       "      <td>...</td>\n",
       "    </tr>\n",
       "    <tr>\n",
       "      <th>100402</th>\n",
       "      <td>2025410</td>\n",
       "      <td>StandardAero, Inc.</td>\n",
       "      <td>2022</td>\n",
       "      <td>NaN</td>\n",
       "      <td>2022-12-31</td>\n",
       "      <td>NaN</td>\n",
       "      <td>-2.100000e+07</td>\n",
       "    </tr>\n",
       "    <tr>\n",
       "      <th>100403</th>\n",
       "      <td>2037804</td>\n",
       "      <td>New Mountain Private Credit Fund</td>\n",
       "      <td>2022</td>\n",
       "      <td>NaN</td>\n",
       "      <td>2022-12-31</td>\n",
       "      <td>NaN</td>\n",
       "      <td>4.987100e+07</td>\n",
       "    </tr>\n",
       "    <tr>\n",
       "      <th>100404</th>\n",
       "      <td>2040127</td>\n",
       "      <td>KARMAN HOLDINGS INC.</td>\n",
       "      <td>2022</td>\n",
       "      <td>NaN</td>\n",
       "      <td>2022-12-31</td>\n",
       "      <td>NaN</td>\n",
       "      <td>-1.409862e+07</td>\n",
       "    </tr>\n",
       "    <tr>\n",
       "      <th>100405</th>\n",
       "      <td>2042694</td>\n",
       "      <td>Primo Brands Corp</td>\n",
       "      <td>2022</td>\n",
       "      <td>NaN</td>\n",
       "      <td>2022-12-31</td>\n",
       "      <td>NaN</td>\n",
       "      <td>-1.267000e+08</td>\n",
       "    </tr>\n",
       "    <tr>\n",
       "      <th>100406</th>\n",
       "      <td>2052959</td>\n",
       "      <td>Lionsgate Studios Corp.</td>\n",
       "      <td>2022</td>\n",
       "      <td>NaN</td>\n",
       "      <td>2023-03-31</td>\n",
       "      <td>NaN</td>\n",
       "      <td>-3.000000e+05</td>\n",
       "    </tr>\n",
       "  </tbody>\n",
       "</table>\n",
       "<p>100407 rows × 7 columns</p>\n",
       "</div>"
      ],
      "text/plain": [
       "        Company_ID                      Company_Name  Year       Revenue  \\\n",
       "0           864328                    BJ SERVICES CO  2008  5.359077e+09   \n",
       "1            64978         MERCK SHARP & DOHME CORP.  2008  2.385030e+10   \n",
       "2          1335793                      CNX GAS CORP  2008  7.894210e+08   \n",
       "3           868809                    XTO ENERGY INC  2008  7.695000e+09   \n",
       "4          1094316                TRINTECH GROUP PLC  2008  3.966400e+07   \n",
       "...            ...                               ...   ...           ...   \n",
       "100402     2025410                StandardAero, Inc.  2022           NaN   \n",
       "100403     2037804  New Mountain Private Credit Fund  2022           NaN   \n",
       "100404     2040127              KARMAN HOLDINGS INC.  2022           NaN   \n",
       "100405     2042694                 Primo Brands Corp  2022           NaN   \n",
       "100406     2052959           Lionsgate Studios Corp.  2022           NaN   \n",
       "\n",
       "       Filing_Date           R&D    Net_Income  \n",
       "0       2008-09-30  7.199700e+07  6.093650e+08  \n",
       "1       2008-12-31  4.805300e+09  7.808400e+09  \n",
       "2       2008-12-31           NaN  2.390730e+08  \n",
       "3       2008-12-31           NaN  1.912000e+09  \n",
       "4       2009-01-31  6.069000e+06 -1.232000e+06  \n",
       "...            ...           ...           ...  \n",
       "100402  2022-12-31           NaN -2.100000e+07  \n",
       "100403  2022-12-31           NaN  4.987100e+07  \n",
       "100404  2022-12-31           NaN -1.409862e+07  \n",
       "100405  2022-12-31           NaN -1.267000e+08  \n",
       "100406  2023-03-31           NaN -3.000000e+05  \n",
       "\n",
       "[100407 rows x 7 columns]"
      ]
     },
     "execution_count": 8,
     "metadata": {},
     "output_type": "execute_result"
    }
   ],
   "source": [
    "data_1"
   ]
  },
  {
   "cell_type": "markdown",
   "id": "64725fc1",
   "metadata": {},
   "source": [
    "#### Clean Data"
   ]
  },
  {
   "cell_type": "code",
   "execution_count": 9,
   "id": "a7832697",
   "metadata": {},
   "outputs": [],
   "source": [
    "# Delete and duplicates\n",
    "data_1 = data_1.drop_duplicates()"
   ]
  },
  {
   "cell_type": "code",
   "execution_count": 10,
   "id": "1b426327",
   "metadata": {},
   "outputs": [],
   "source": [
    "# Remove any Revenue that is 0 to predict sales growth.\n",
    "# Do not know for sure that NaN means they did not spend money \n",
    "data_2 = data_1.dropna(subset=['Revenue', 'Net_Income', 'R&D'])"
   ]
  },
  {
   "cell_type": "markdown",
   "id": "4f72ae88",
   "metadata": {},
   "source": [
    "Notes: Do not know for sure that NaN means no money was spent on R&D. After looking at SEC data it does not seemto be required. So NaN was dropped."
   ]
  },
  {
   "cell_type": "code",
   "execution_count": 11,
   "id": "2360a150",
   "metadata": {},
   "outputs": [
    {
     "data": {
      "text/html": [
       "<div>\n",
       "<style scoped>\n",
       "    .dataframe tbody tr th:only-of-type {\n",
       "        vertical-align: middle;\n",
       "    }\n",
       "\n",
       "    .dataframe tbody tr th {\n",
       "        vertical-align: top;\n",
       "    }\n",
       "\n",
       "    .dataframe thead th {\n",
       "        text-align: right;\n",
       "    }\n",
       "</style>\n",
       "<table border=\"1\" class=\"dataframe\">\n",
       "  <thead>\n",
       "    <tr style=\"text-align: right;\">\n",
       "      <th></th>\n",
       "      <th>Company_ID</th>\n",
       "      <th>Company_Name</th>\n",
       "      <th>Year</th>\n",
       "      <th>Revenue</th>\n",
       "      <th>Filing_Date</th>\n",
       "      <th>R&amp;D</th>\n",
       "      <th>Net_Income</th>\n",
       "    </tr>\n",
       "  </thead>\n",
       "  <tbody>\n",
       "    <tr>\n",
       "      <th>0</th>\n",
       "      <td>864328</td>\n",
       "      <td>BJ SERVICES CO</td>\n",
       "      <td>2008</td>\n",
       "      <td>5.359077e+09</td>\n",
       "      <td>2008-09-30</td>\n",
       "      <td>7.199700e+07</td>\n",
       "      <td>6.093650e+08</td>\n",
       "    </tr>\n",
       "    <tr>\n",
       "      <th>1</th>\n",
       "      <td>64978</td>\n",
       "      <td>MERCK SHARP &amp; DOHME CORP.</td>\n",
       "      <td>2008</td>\n",
       "      <td>2.385030e+10</td>\n",
       "      <td>2008-12-31</td>\n",
       "      <td>4.805300e+09</td>\n",
       "      <td>7.808400e+09</td>\n",
       "    </tr>\n",
       "    <tr>\n",
       "      <th>4</th>\n",
       "      <td>1094316</td>\n",
       "      <td>TRINTECH GROUP PLC</td>\n",
       "      <td>2008</td>\n",
       "      <td>3.966400e+07</td>\n",
       "      <td>2009-01-31</td>\n",
       "      <td>6.069000e+06</td>\n",
       "      <td>-1.232000e+06</td>\n",
       "    </tr>\n",
       "    <tr>\n",
       "      <th>10</th>\n",
       "      <td>890801</td>\n",
       "      <td>MCAFEE, INC.</td>\n",
       "      <td>2008</td>\n",
       "      <td>1.600065e+09</td>\n",
       "      <td>2008-12-31</td>\n",
       "      <td>2.520200e+08</td>\n",
       "      <td>1.722090e+08</td>\n",
       "    </tr>\n",
       "    <tr>\n",
       "      <th>12</th>\n",
       "      <td>758004</td>\n",
       "      <td>NOVELL INC</td>\n",
       "      <td>2008</td>\n",
       "      <td>9.565130e+08</td>\n",
       "      <td>2008-10-31</td>\n",
       "      <td>1.915470e+08</td>\n",
       "      <td>-8.745000e+06</td>\n",
       "    </tr>\n",
       "    <tr>\n",
       "      <th>...</th>\n",
       "      <td>...</td>\n",
       "      <td>...</td>\n",
       "      <td>...</td>\n",
       "      <td>...</td>\n",
       "      <td>...</td>\n",
       "      <td>...</td>\n",
       "      <td>...</td>\n",
       "    </tr>\n",
       "    <tr>\n",
       "      <th>45908</th>\n",
       "      <td>1990145</td>\n",
       "      <td>Holdco Nuvo Group D.G Ltd.</td>\n",
       "      <td>2022</td>\n",
       "      <td>0.000000e+00</td>\n",
       "      <td>2022-12-31</td>\n",
       "      <td>9.893000e+06</td>\n",
       "      <td>-2.067900e+07</td>\n",
       "    </tr>\n",
       "    <tr>\n",
       "      <th>45911</th>\n",
       "      <td>1991592</td>\n",
       "      <td>INLIF LIMITED</td>\n",
       "      <td>2022</td>\n",
       "      <td>6.652308e+06</td>\n",
       "      <td>2022-12-31</td>\n",
       "      <td>5.047110e+05</td>\n",
       "      <td>5.375550e+05</td>\n",
       "    </tr>\n",
       "    <tr>\n",
       "      <th>45913</th>\n",
       "      <td>1993727</td>\n",
       "      <td>SENSTAR TECHNOLOGIES CORPORATION</td>\n",
       "      <td>2022</td>\n",
       "      <td>3.555800e+07</td>\n",
       "      <td>2022-12-31</td>\n",
       "      <td>4.032000e+06</td>\n",
       "      <td>3.831000e+06</td>\n",
       "    </tr>\n",
       "    <tr>\n",
       "      <th>45915</th>\n",
       "      <td>1996862</td>\n",
       "      <td>BUNGE GLOBAL SA</td>\n",
       "      <td>2022</td>\n",
       "      <td>6.723200e+10</td>\n",
       "      <td>2022-12-31</td>\n",
       "      <td>3.300000e+07</td>\n",
       "      <td>1.610000e+09</td>\n",
       "    </tr>\n",
       "    <tr>\n",
       "      <th>45919</th>\n",
       "      <td>1999860</td>\n",
       "      <td>Wing Yip Food Holdings Group Limited</td>\n",
       "      <td>2022</td>\n",
       "      <td>1.307894e+08</td>\n",
       "      <td>2022-12-31</td>\n",
       "      <td>4.105172e+06</td>\n",
       "      <td>1.119398e+07</td>\n",
       "    </tr>\n",
       "  </tbody>\n",
       "</table>\n",
       "<p>14024 rows × 7 columns</p>\n",
       "</div>"
      ],
      "text/plain": [
       "       Company_ID                          Company_Name  Year       Revenue  \\\n",
       "0          864328                        BJ SERVICES CO  2008  5.359077e+09   \n",
       "1           64978             MERCK SHARP & DOHME CORP.  2008  2.385030e+10   \n",
       "4         1094316                    TRINTECH GROUP PLC  2008  3.966400e+07   \n",
       "10         890801                          MCAFEE, INC.  2008  1.600065e+09   \n",
       "12         758004                            NOVELL INC  2008  9.565130e+08   \n",
       "...           ...                                   ...   ...           ...   \n",
       "45908     1990145            Holdco Nuvo Group D.G Ltd.  2022  0.000000e+00   \n",
       "45911     1991592                         INLIF LIMITED  2022  6.652308e+06   \n",
       "45913     1993727      SENSTAR TECHNOLOGIES CORPORATION  2022  3.555800e+07   \n",
       "45915     1996862                       BUNGE GLOBAL SA  2022  6.723200e+10   \n",
       "45919     1999860  Wing Yip Food Holdings Group Limited  2022  1.307894e+08   \n",
       "\n",
       "      Filing_Date           R&D    Net_Income  \n",
       "0      2008-09-30  7.199700e+07  6.093650e+08  \n",
       "1      2008-12-31  4.805300e+09  7.808400e+09  \n",
       "4      2009-01-31  6.069000e+06 -1.232000e+06  \n",
       "10     2008-12-31  2.520200e+08  1.722090e+08  \n",
       "12     2008-10-31  1.915470e+08 -8.745000e+06  \n",
       "...           ...           ...           ...  \n",
       "45908  2022-12-31  9.893000e+06 -2.067900e+07  \n",
       "45911  2022-12-31  5.047110e+05  5.375550e+05  \n",
       "45913  2022-12-31  4.032000e+06  3.831000e+06  \n",
       "45915  2022-12-31  3.300000e+07  1.610000e+09  \n",
       "45919  2022-12-31  4.105172e+06  1.119398e+07  \n",
       "\n",
       "[14024 rows x 7 columns]"
      ]
     },
     "execution_count": 11,
     "metadata": {},
     "output_type": "execute_result"
    }
   ],
   "source": [
    "data_2"
   ]
  },
  {
   "cell_type": "markdown",
   "id": "285b6758",
   "metadata": {},
   "source": [
    "Notes: Large part of the data is NA. Also pull the industry because not all companies need R&D"
   ]
  },
  {
   "cell_type": "code",
   "execution_count": 12,
   "id": "047e5734",
   "metadata": {},
   "outputs": [],
   "source": [
    "# Make copy of data due to error\n",
    "data_3 =  data_2.copy()"
   ]
  },
  {
   "cell_type": "markdown",
   "id": "4389432e",
   "metadata": {},
   "source": [
    "#### Unique CIKs - Pull data API"
   ]
  },
  {
   "cell_type": "code",
   "execution_count": 13,
   "id": "4208ea73",
   "metadata": {},
   "outputs": [],
   "source": [
    "# Collect CIKs as a unique list\n",
    "ciks = data_3['Company_ID'].astype(str).drop_duplicates().tolist()\n",
    "\n",
    "# Empty list for each row\n",
    "ciks_rows = []"
   ]
  },
  {
   "cell_type": "code",
   "execution_count": null,
   "id": "4d1165f8",
   "metadata": {},
   "outputs": [],
   "source": [
    "# Need CIKs code to be able to find industry\n",
    "# For loop to pull each ID\n",
    "for cik in ciks:\n",
    "    # Add zeros before Company ID to follow SEC format\n",
    "    cik_zero = cik.zfill(10)\n",
    "    #link for each company ID\n",
    "    url = f'https://data.sec.gov/submissions/CIK{cik_zero}.json'\n",
    "    # Header\n",
    "    headers = {'User-Agent': 'DSC680-project'}  \n",
    "    # Request data\n",
    "    response = requests.get(url, headers=headers)\n",
    "    \n",
    "    \n",
    "    # If everything is good, pull the wanted information \n",
    "    if response.status_code == 200:\n",
    "        # Make the files readable\n",
    "        ciks_data = response.json()\n",
    "        ciks_rows.append({\n",
    "            # Company ID, need to merge\n",
    "            'Company_ID': cik.lstrip('0'),\n",
    "            # Classification code for SEC\n",
    "            'SIC': ciks_data.get('sic'),\n",
    "            # More Specific than Industry\n",
    "            'SIC_Description': ciks_data.get('sicDescription'),\n",
    "            # Pull Industry\n",
    "            'Industry': ciks_data.get('ownerOrg'),\n",
    "            # More company size (Not sure if needed)\n",
    "            'Category': ciks_data.get('category')})\n",
    "    # Skip company if it does not have it\n",
    "    else:\n",
    "        continue\n",
    "    # Prevent error\n",
    "    time.sleep(0.10)"
   ]
  },
  {
   "cell_type": "code",
   "execution_count": null,
   "id": "41a15d3e",
   "metadata": {},
   "outputs": [],
   "source": [
    "# Turn into DataFrame\n",
    "ciks_data = pd.DataFrame(ciks_rows)"
   ]
  },
  {
   "cell_type": "code",
   "execution_count": null,
   "id": "76960aec",
   "metadata": {},
   "outputs": [],
   "source": [
    "ciks_data"
   ]
  },
  {
   "cell_type": "code",
   "execution_count": null,
   "id": "03b6e967",
   "metadata": {},
   "outputs": [],
   "source": [
    "# Make sure both Company_ID is a str\n",
    "data_3['Company_ID'] = data_3['Company_ID'].astype(str)\n",
    "ciks_data['Company_ID'] = ciks_data['Company_ID'].astype(str)"
   ]
  },
  {
   "cell_type": "code",
   "execution_count": null,
   "id": "9c0619e0",
   "metadata": {},
   "outputs": [],
   "source": [
    "# Merge on Company_ID\n",
    "data_4 = pd.merge(data_3, ciks_data, on='Company_ID', how='left')"
   ]
  },
  {
   "cell_type": "code",
   "execution_count": null,
   "id": "c76c3adb",
   "metadata": {},
   "outputs": [],
   "source": [
    "data_4"
   ]
  },
  {
   "cell_type": "code",
   "execution_count": null,
   "id": "bcb6dfd4",
   "metadata": {},
   "outputs": [],
   "source": [
    "print(data_4.isna().sum())"
   ]
  },
  {
   "cell_type": "markdown",
   "id": "5259f937",
   "metadata": {},
   "source": [
    "Notes: A lot of Industry are missing. Add Industry. No file found. Make a table. Links below to find information"
   ]
  },
  {
   "cell_type": "markdown",
   "id": "75115e41",
   "metadata": {},
   "source": [
    "### Make Industry Dataset"
   ]
  },
  {
   "cell_type": "code",
   "execution_count": null,
   "id": "521242fb",
   "metadata": {},
   "outputs": [],
   "source": [
    "# SIC Division\n",
    "sic_divisions = [\n",
    "    {\"Division\": \"A\", \"Name\": \"Agriculture, Forestry, and Fishing\", \"Start\": 100, \"End\": 999},\n",
    "    {\"Division\": \"B\", \"Name\": \"Mining\", \"Start\": 1000, \"End\": 1499},\n",
    "    {\"Division\": \"C\", \"Name\": \"Construction\", \"Start\": 1500, \"End\": 1799},\n",
    "    {\"Division\": \"D\", \"Name\": \"Manufacturing\", \"Start\": 2000, \"End\": 3999},\n",
    "    {\"Division\": \"E\", \"Name\": \"Transportation, Communications, Electric, Gas & Sanitary\", \"Start\": 4000, \"End\": 4999},\n",
    "    {\"Division\": \"F\", \"Name\": \"Wholesale Trade\", \"Start\": 5000, \"End\": 5199},\n",
    "    {\"Division\": \"G\", \"Name\": \"Retail Trade\", \"Start\": 5200, \"End\": 5999},\n",
    "    {\"Division\": \"H\", \"Name\": \"Finance, Insurance & Real Estate\", \"Start\": 6000, \"End\": 6799},\n",
    "    {\"Division\": \"I\", \"Name\": \"Services\", \"Start\": 7000, \"End\": 8999},\n",
    "    {\"Division\": \"J\", \"Name\": \"Public Administration\", \"Start\": 9100, \"End\": 9729},\n",
    "    {\"Division\": \"-\", \"Name\": \"Nonclassifiable Establishments\", \"Start\": 9900, \"End\": 9999}]"
   ]
  },
  {
   "cell_type": "markdown",
   "id": "65d73128",
   "metadata": {},
   "source": [
    "Links: <br>\n",
    "https://www.naics.com/sic-codes-industry-drilldown/, <br>\n",
    "https://siccode.com/sic-code-lookup-directory, <br>\n",
    "https://fieldtexcases.com/blog/manufacturing-sic-codes/?utm_source=chatgpt.com"
   ]
  },
  {
   "cell_type": "code",
   "execution_count": null,
   "id": "597369f8",
   "metadata": {},
   "outputs": [],
   "source": [
    "# Make a funcation to make a table of all codes\n",
    "def get_division(sic):\n",
    "    for d in sic_divisions:\n",
    "        #only make a list between the SIC cat. codes\n",
    "        if d[\"Start\"] <= sic <= d[\"End\"]:\n",
    "            # Return results\n",
    "            return d[\"Division\"], d[\"Name\"]\n",
    "    # Give no result if it does not meet the requirements\n",
    "    return None, None"
   ]
  },
  {
   "cell_type": "code",
   "execution_count": null,
   "id": "cd71fcb4",
   "metadata": {},
   "outputs": [],
   "source": [
    "# Funcation to make the numbers from get_division into int format \n",
    "def int_division(x):\n",
    "    try:\n",
    "        # Make results an int.\n",
    "        x_int = int(x)\n",
    "        # Return results as a pd series for dataframe\n",
    "        return pd.Series(get_division(x_int))\n",
    "    # If error occurs enter none\n",
    "    except Exception:\n",
    "        return pd.Series([None, None])"
   ]
  },
  {
   "cell_type": "code",
   "execution_count": null,
   "id": "867a80da",
   "metadata": {},
   "outputs": [],
   "source": [
    "data_4[[\"SIC_Division\", \"SIC_Industry\"]] = data_4[\"SIC\"].apply(int_division)"
   ]
  },
  {
   "cell_type": "code",
   "execution_count": null,
   "id": "d0221b21",
   "metadata": {},
   "outputs": [],
   "source": [
    "data_4.head()"
   ]
  },
  {
   "cell_type": "markdown",
   "id": "17ef08c0",
   "metadata": {},
   "source": [
    "#### Clean Data"
   ]
  },
  {
   "cell_type": "code",
   "execution_count": null,
   "id": "5ad43846",
   "metadata": {},
   "outputs": [],
   "source": [
    "# Calculate the sales growth\n",
    "# sort to make the results sort each year for each company\n",
    "data_5 = data_4.sort_values(['Company_ID', 'Year'])\n",
    "# Make new column for sales growth for revenue\n",
    "data_5['Sales_Growth'] = data_4.groupby('Company_ID')['Revenue'].pct_change()\n",
    "# Make new column for sales growth for R&D\n",
    "data_5['RD_Growth'] = data_4.groupby('Company_ID')['R&D'].pct_change()"
   ]
  },
  {
   "cell_type": "code",
   "execution_count": null,
   "id": "2272afc0",
   "metadata": {},
   "outputs": [],
   "source": [
    "# Check for NaN\n",
    "print(data_5.isna().sum())"
   ]
  },
  {
   "cell_type": "code",
   "execution_count": null,
   "id": "090a2a8b",
   "metadata": {},
   "outputs": [],
   "source": [
    "# Drop NaN\n",
    "data_5 = data_5.dropna(subset=['Industry','SIC_Division', 'SIC_Industry', 'Sales_Growth'])"
   ]
  },
  {
   "cell_type": "markdown",
   "id": "3ab40336",
   "metadata": {},
   "source": [
    "### Do companies that currently spend heavily on R&D achieve faster sales growth than companies spending less?"
   ]
  },
  {
   "cell_type": "code",
   "execution_count": null,
   "id": "454c682b",
   "metadata": {},
   "outputs": [],
   "source": [
    "# Group by industry and calculate average sales growth\n",
    "industry_growth = data_5.groupby('SIC_Industry')['R&D'].mean().sort_values(ascending=False)"
   ]
  },
  {
   "cell_type": "markdown",
   "id": "0b383c53",
   "metadata": {},
   "source": [
    "##### Average Sales Growth by Industry"
   ]
  },
  {
   "cell_type": "code",
   "execution_count": null,
   "id": "cba9a5ff",
   "metadata": {},
   "outputs": [],
   "source": [
    "# Graph size\n",
    "plt.figure(figsize=(10, 6))\n",
    "# Make a bar chart\n",
    "industry_growth.plot(kind='bar')\n",
    "plt.title('Average Sales Growth by Industry')\n",
    "# Make industry easy to read\n",
    "plt.xticks(rotation=45, ha='right')\n",
    "# Make labels print within size\n",
    "plt.tight_layout()\n",
    "# Print graph\n",
    "plt.show()"
   ]
  },
  {
   "cell_type": "code",
   "execution_count": null,
   "id": "2c1f18f2",
   "metadata": {},
   "outputs": [],
   "source": [
    "# Fix error. Remove outliers\n",
    "# 25% of the data Q1\n",
    "Q1 = data_5['Sales_Growth'].quantile(0.25)\n",
    "# 75% of the data Q3\n",
    "Q3 = data_5['Sales_Growth'].quantile(0.75)\n",
    "# Find the spread (IQR)\n",
    "spread = Q3 - Q1"
   ]
  },
  {
   "cell_type": "code",
   "execution_count": null,
   "id": "f71ef022",
   "metadata": {},
   "outputs": [],
   "source": [
    "# find lower outliers\n",
    "lower_bound = Q1 - 1.5 * spread\n",
    "# Find upper outliers\n",
    "upper_bound = Q3 + 1.5 * spread"
   ]
  },
  {
   "cell_type": "code",
   "execution_count": null,
   "id": "9921019e",
   "metadata": {},
   "outputs": [],
   "source": [
    "# Filter out outliers\n",
    "data_6 = data_5[(data_5['Sales_Growth'] >= lower_bound) & (data_5['Sales_Growth'] <= upper_bound)]"
   ]
  },
  {
   "cell_type": "markdown",
   "id": "8ec3fcb2",
   "metadata": {},
   "source": [
    "##### R&D Spending Vs Sales Growth - Scatterplot"
   ]
  },
  {
   "cell_type": "code",
   "execution_count": null,
   "id": "203a8338",
   "metadata": {
    "scrolled": false
   },
   "outputs": [],
   "source": [
    "# Figure Size\n",
    "plt.figure(figsize=(5,5))\n",
    "# Make a scatter plot\n",
    "sns.scatterplot(x='R&D', y='Sales_Growth', data=data_6)\n",
    "# Print graph\n",
    "plt.show()"
   ]
  },
  {
   "cell_type": "markdown",
   "id": "038057cc",
   "metadata": {},
   "source": [
    "Notes: Try Random forest. results are not linear"
   ]
  },
  {
   "cell_type": "markdown",
   "id": "476ca646",
   "metadata": {},
   "source": [
    " ##### Random Forest Regressor"
   ]
  },
  {
   "cell_type": "code",
   "execution_count": null,
   "id": "0cc6aac0",
   "metadata": {},
   "outputs": [],
   "source": [
    "# Make copy to prevent error\n",
    "data_rnd = data_6.copy()"
   ]
  },
  {
   "cell_type": "code",
   "execution_count": null,
   "id": "24039aef",
   "metadata": {},
   "outputs": [],
   "source": [
    "# Define features and targets to predict if current sales growth\n",
    "X = data_rnd[['R&D']]\n",
    "y = data_rnd['Sales_Growth']"
   ]
  },
  {
   "cell_type": "code",
   "execution_count": null,
   "id": "74afae57",
   "metadata": {},
   "outputs": [],
   "source": [
    "# Train Model\n",
    "X_train, X_test, y_train, y_test = train_test_split(X, y, test_size=0.2, random_state=42)"
   ]
  },
  {
   "cell_type": "code",
   "execution_count": null,
   "id": "cc401ae9",
   "metadata": {},
   "outputs": [],
   "source": [
    "# Allow random forest\n",
    "rf_model = RandomForestRegressor(random_state=42)"
   ]
  },
  {
   "cell_type": "code",
   "execution_count": null,
   "id": "bf63a69f",
   "metadata": {},
   "outputs": [],
   "source": [
    "# Fit model\n",
    "rf_model.fit(X_train, y_train)"
   ]
  },
  {
   "cell_type": "code",
   "execution_count": null,
   "id": "bbe5b20a",
   "metadata": {},
   "outputs": [],
   "source": [
    "# Predict model\n",
    "y_pred_rf = rf_model.predict(X_test)"
   ]
  },
  {
   "cell_type": "code",
   "execution_count": null,
   "id": "f24cadab",
   "metadata": {},
   "outputs": [],
   "source": [
    "print(\"Random Forest - Just R&D\")\n",
    "print(\"MAE:\", mean_absolute_error(y_test, y_pred_rf))\n",
    "print(\"RMSE:\", np.sqrt(mean_squared_error(y_test, y_pred_rf)))\n",
    "print(\"R2:\", r2_score(y_test, y_pred_rf))"
   ]
  },
  {
   "cell_type": "code",
   "execution_count": null,
   "id": "4ea6df3d",
   "metadata": {},
   "outputs": [],
   "source": [
    "# Define features and targets to predict if current sales growth\n",
    "# include year to account for covid and industry due\n",
    "X = pd.get_dummies(data_rnd[['R&D', 'Year', 'SIC_Industry']])\n",
    "y = data_rnd['Sales_Growth']"
   ]
  },
  {
   "cell_type": "code",
   "execution_count": null,
   "id": "b077f14b",
   "metadata": {},
   "outputs": [],
   "source": [
    "# Train Model\n",
    "X_train, X_test, y_train, y_test = train_test_split(X, y, test_size=0.2, random_state=42)"
   ]
  },
  {
   "cell_type": "code",
   "execution_count": null,
   "id": "850ce965",
   "metadata": {},
   "outputs": [],
   "source": [
    "# Allow random forest\n",
    "rf_model = RandomForestRegressor(random_state=42)"
   ]
  },
  {
   "cell_type": "code",
   "execution_count": null,
   "id": "08b36f55",
   "metadata": {},
   "outputs": [],
   "source": [
    "# Fit model\n",
    "rf_model.fit(X_train, y_train)"
   ]
  },
  {
   "cell_type": "code",
   "execution_count": null,
   "id": "bcf5e106",
   "metadata": {},
   "outputs": [],
   "source": [
    "# Predict model\n",
    "y_pred_rf = rf_model.predict(X_test)"
   ]
  },
  {
   "cell_type": "code",
   "execution_count": null,
   "id": "9c845d2e",
   "metadata": {},
   "outputs": [],
   "source": [
    "print(\"Random Forest - R&D, Year, SIC_Industry\")\n",
    "print(\"MAE:\", mean_absolute_error(y_test, y_pred_rf))\n",
    "print(\"RMSE:\", np.sqrt(mean_squared_error(y_test, y_pred_rf)))\n",
    "print(\"R2:\", r2_score(y_test, y_pred_rf))"
   ]
  },
  {
   "cell_type": "markdown",
   "id": "0fc59feb",
   "metadata": {},
   "source": [
    "Not a good model. Try robust scaler for R&D and sales growth to decrease skew"
   ]
  },
  {
   "cell_type": "code",
   "execution_count": null,
   "id": "28cc1675",
   "metadata": {},
   "outputs": [],
   "source": [
    "# Copy of data for scaled data\n",
    "data_7 = data_6.copy()"
   ]
  },
  {
   "cell_type": "code",
   "execution_count": null,
   "id": "79c9f4c6",
   "metadata": {},
   "outputs": [],
   "source": [
    "# Allow scaler\n",
    "scaler = RobustScaler()"
   ]
  },
  {
   "cell_type": "code",
   "execution_count": null,
   "id": "1a9e5059",
   "metadata": {},
   "outputs": [],
   "source": [
    "# Scale R&D and sales growth\n",
    "data_7['R&D_scaled'] = scaler.fit_transform(data_7[['R&D']])\n",
    "data_7['Sales_Growth_scaled'] = scaler.fit_transform(data_7[['Sales_Growth']])"
   ]
  },
  {
   "cell_type": "code",
   "execution_count": null,
   "id": "b9a6924a",
   "metadata": {},
   "outputs": [],
   "source": [
    "# Define features and targets to predict\n",
    "X = pd.get_dummies(data_7[['R&D_scaled', 'Year', 'SIC_Industry']])\n",
    "y = data_7['Sales_Growth_scaled']"
   ]
  },
  {
   "cell_type": "code",
   "execution_count": null,
   "id": "ee015904",
   "metadata": {},
   "outputs": [],
   "source": [
    "# Train Model\n",
    "X_train, X_test, y_train, y_test = train_test_split(X, y, test_size=0.2, random_state=42)"
   ]
  },
  {
   "cell_type": "code",
   "execution_count": null,
   "id": "043dfdae",
   "metadata": {},
   "outputs": [],
   "source": [
    "# Fit model\n",
    "rf_model.fit(X_train, y_train)"
   ]
  },
  {
   "cell_type": "code",
   "execution_count": null,
   "id": "4f3335b3",
   "metadata": {},
   "outputs": [],
   "source": [
    "# Predict model\n",
    "y_pred_rf = rf_model.predict(X_test)"
   ]
  },
  {
   "cell_type": "code",
   "execution_count": null,
   "id": "166402ac",
   "metadata": {},
   "outputs": [],
   "source": [
    "print(\"Random Forest\")\n",
    "print(\"MAE:\", mean_absolute_error(y_test, y_pred_rf))\n",
    "print(\"RMSE:\", np.sqrt(mean_squared_error(y_test, y_pred_rf)))\n",
    "print(\"R2:\", r2_score(y_test, y_pred_rf))"
   ]
  },
  {
   "cell_type": "markdown",
   "id": "e420f3bb",
   "metadata": {},
   "source": [
    "Model is even worse. Only look at the top three"
   ]
  },
  {
   "cell_type": "code",
   "execution_count": null,
   "id": "9acb545e",
   "metadata": {},
   "outputs": [],
   "source": [
    "# Top three sales growth\n",
    "keep = ['Agriculture, Forestry, and Fishing','Manufacturing','Services']"
   ]
  },
  {
   "cell_type": "code",
   "execution_count": null,
   "id": "00516718",
   "metadata": {},
   "outputs": [],
   "source": [
    "# New data set of only top three\n",
    "data_8 = data_7[data_7['SIC_Industry'].isin(keep)]"
   ]
  },
  {
   "cell_type": "code",
   "execution_count": null,
   "id": "242392be",
   "metadata": {},
   "outputs": [],
   "source": [
    "# Make copy to prevent error\n",
    "data_rnd_top3 = data_8.copy()"
   ]
  },
  {
   "cell_type": "code",
   "execution_count": null,
   "id": "9f9be3fc",
   "metadata": {},
   "outputs": [],
   "source": [
    "# Define features and targets to predict\n",
    "X = data_rnd_top3[['R&D']]\n",
    "y = data_rnd_top3['Sales_Growth']"
   ]
  },
  {
   "cell_type": "code",
   "execution_count": null,
   "id": "3e339c1b",
   "metadata": {},
   "outputs": [],
   "source": [
    "# Train Model\n",
    "X_train, X_test, y_train, y_test = train_test_split(X, y, test_size=0.2, random_state=42)"
   ]
  },
  {
   "cell_type": "code",
   "execution_count": null,
   "id": "cd8f44eb",
   "metadata": {},
   "outputs": [],
   "source": [
    "# Fit model\n",
    "rf_model.fit(X_train, y_train)"
   ]
  },
  {
   "cell_type": "code",
   "execution_count": null,
   "id": "8fe70780",
   "metadata": {},
   "outputs": [],
   "source": [
    "# Predict model\n",
    "y_pred_rf = rf_model.predict(X_test)"
   ]
  },
  {
   "cell_type": "code",
   "execution_count": null,
   "id": "3d0ab17f",
   "metadata": {},
   "outputs": [],
   "source": [
    "# Notes: Top three\n",
    "print(\"Random Forest\")\n",
    "print(\"MAE:\", mean_absolute_error(y_test, y_pred_rf))\n",
    "print(\"RMSE:\", np.sqrt(mean_squared_error(y_test, y_pred_rf)))\n",
    "print(\"RMSE:\", np.sqrt(mean_squared_error(y_test, y_pred_rf)))\n",
    "print(\"R2:\", r2_score(y_test, y_pred_rf))"
   ]
  },
  {
   "cell_type": "markdown",
   "id": "ac34f1ce",
   "metadata": {},
   "source": [
    "Try a different model"
   ]
  },
  {
   "cell_type": "markdown",
   "id": "edc98967",
   "metadata": {},
   "source": [
    "Random Forest - Only looking at R&D as Indep.\n",
    "MAE: 0.21793900803113708\n",
    "RMSE: 0.28644902589828736\n",
    "RMSE: 0.28644902589828736\n",
    "R2: -0.23215625461103118\n",
    "\n",
    "\n",
    "Random Forest - Three indep. varb\n",
    "MAE: 0.2049755338401916\n",
    "RMSE: 0.27509560160027885\n",
    "R2: -0.1364187217596715"
   ]
  },
  {
   "cell_type": "markdown",
   "id": "85ae8dd7",
   "metadata": {},
   "source": [
    "##### Gradient Boosting"
   ]
  },
  {
   "cell_type": "code",
   "execution_count": null,
   "id": "03f49db7",
   "metadata": {},
   "outputs": [],
   "source": [
    "# Define features and targets to predict \n",
    "X = data_7[['R&D']]\n",
    "y = data_7['Sales_Growth']"
   ]
  },
  {
   "cell_type": "code",
   "execution_count": null,
   "id": "3515ad31",
   "metadata": {},
   "outputs": [],
   "source": [
    "# Allow Gradient Boosting\n",
    "gb_model = GradientBoostingRegressor(random_state=42)"
   ]
  },
  {
   "cell_type": "code",
   "execution_count": null,
   "id": "4eaf4957",
   "metadata": {},
   "outputs": [],
   "source": [
    "# Fit the model\n",
    "gb_model.fit(X_train, y_train)"
   ]
  },
  {
   "cell_type": "code",
   "execution_count": null,
   "id": "b8ca4ea4",
   "metadata": {},
   "outputs": [],
   "source": [
    "# Predict\n",
    "y_pred_gb = gb_model.predict(X_test)"
   ]
  },
  {
   "cell_type": "code",
   "execution_count": null,
   "id": "402f1239",
   "metadata": {
    "scrolled": true
   },
   "outputs": [],
   "source": [
    "print(\"Gradient Boosting - R&D\")\n",
    "print(\"MAE:\", mean_absolute_error(y_test, y_pred_gb))\n",
    "print(\"RMSE:\", np.sqrt(mean_squared_error(y_test, y_pred_gb)))\n",
    "print(\"RMSE:\", np.sqrt(mean_squared_error(y_test, y_pred_gb)))\n",
    "print(\"R2:\", r2_score(y_test, y_pred_gb))"
   ]
  },
  {
   "cell_type": "code",
   "execution_count": null,
   "id": "193e324d",
   "metadata": {},
   "outputs": [],
   "source": [
    "# Define features and targets to predict \n",
    "X = pd.get_dummies(data_rnd[['R&D', 'Year', 'SIC_Industry']])\n",
    "y = data_rnd['Sales_Growth']"
   ]
  },
  {
   "cell_type": "code",
   "execution_count": null,
   "id": "efd082dc",
   "metadata": {},
   "outputs": [],
   "source": [
    "# Train Model\n",
    "X_train, X_test, y_train, y_test = train_test_split(X, y, test_size=0.2, random_state=42)"
   ]
  },
  {
   "cell_type": "code",
   "execution_count": null,
   "id": "62da4e74",
   "metadata": {},
   "outputs": [],
   "source": [
    "# Fit the model\n",
    "gb_model.fit(X_train, y_train)"
   ]
  },
  {
   "cell_type": "code",
   "execution_count": null,
   "id": "01eccb47",
   "metadata": {},
   "outputs": [],
   "source": [
    "# Predict\n",
    "y_pred_gb = gb_model.predict(X_test)"
   ]
  },
  {
   "cell_type": "code",
   "execution_count": null,
   "id": "bd4c9f77",
   "metadata": {
    "scrolled": true
   },
   "outputs": [],
   "source": [
    "print(\"Gradient Boosting - Top Three with Sales Growth\")\n",
    "print(\"MAE:\", mean_absolute_error(y_test, y_pred_gb))\n",
    "print(\"RMSE:\", np.sqrt(mean_squared_error(y_test, y_pred_gb)))\n",
    "print(\"RMSE:\", np.sqrt(mean_squared_error(y_test, y_pred_gb)))\n",
    "print(\"R2:\", r2_score(y_test, y_pred_gb))"
   ]
  },
  {
   "cell_type": "markdown",
   "id": "75101b46",
   "metadata": {},
   "source": [
    "Notes: Model is better. Look at Inustry and Year"
   ]
  },
  {
   "cell_type": "code",
   "execution_count": null,
   "id": "c5b1a887",
   "metadata": {},
   "outputs": [],
   "source": [
    "# Define features and targets to predict. Look at all\n",
    "X = pd.get_dummies(data_7[['R&D', 'Year', 'SIC_Industry']])\n",
    "y = data_7['Sales_Growth']"
   ]
  },
  {
   "cell_type": "code",
   "execution_count": null,
   "id": "386229b8",
   "metadata": {},
   "outputs": [],
   "source": [
    "# Train Model\n",
    "X_train, X_test, y_train, y_test = train_test_split(X, y, test_size=0.2, random_state=42)"
   ]
  },
  {
   "cell_type": "code",
   "execution_count": null,
   "id": "9b357b24",
   "metadata": {},
   "outputs": [],
   "source": [
    "# Fit model\n",
    "gb_model.fit(X_train, y_train)"
   ]
  },
  {
   "cell_type": "code",
   "execution_count": null,
   "id": "a9429449",
   "metadata": {},
   "outputs": [],
   "source": [
    "# Predict\n",
    "y_pred_gb = gb_model.predict(X_test)"
   ]
  },
  {
   "cell_type": "code",
   "execution_count": null,
   "id": "00351821",
   "metadata": {
    "scrolled": false
   },
   "outputs": [],
   "source": [
    "print(\"Gradient Boosting - All Industry\")\n",
    "print(\"MAE:\", mean_absolute_error(y_test, y_pred_gb))\n",
    "print(\"RMSE:\", np.sqrt(mean_squared_error(y_test, y_pred_gb)))\n",
    "print(\"RMSE:\", np.sqrt(mean_squared_error(y_test, y_pred_gb)))\n",
    "print(\"R2:\", r2_score(y_test, y_pred_gb))"
   ]
  },
  {
   "cell_type": "markdown",
   "id": "d9f33f24",
   "metadata": {},
   "source": [
    "Model is the same. Does not look like it made any difference to look at the top three or all of them."
   ]
  },
  {
   "cell_type": "markdown",
   "id": "f2fbdece",
   "metadata": {},
   "source": [
    "R&D, year, and industry only explained a small amount of variation in sales growth"
   ]
  },
  {
   "cell_type": "markdown",
   "id": "486cd1ed",
   "metadata": {},
   "source": [
    "#### Actual Sales Growth Vs. Predicted"
   ]
  },
  {
   "cell_type": "code",
   "execution_count": null,
   "id": "a3aaf112",
   "metadata": {},
   "outputs": [],
   "source": [
    "# Figure size\n",
    "plt.figure(figsize=(7, 5))\n",
    "# Make scatter plot\n",
    "plt.scatter(y_test, y_pred_gb, alpha=0.6)\n",
    "# X-label\n",
    "plt.xlabel('Actual Sales Growth')\n",
    "# Y-label\n",
    "plt.ylabel('Predicted Sales Growth')\n",
    "# Plot graph\n",
    "plt.plot([y_test.min(), y_test.max()], [y_test.min(), y_test.max()], '--', color='red')\n",
    "# Print graph\n",
    "plt.show()"
   ]
  },
  {
   "cell_type": "markdown",
   "id": "0b3be98b",
   "metadata": {},
   "source": [
    "#### Test Set Actual vs Predicted Sales Growth - Scatterplot"
   ]
  },
  {
   "cell_type": "code",
   "execution_count": null,
   "id": "bd05eb91",
   "metadata": {},
   "outputs": [],
   "source": [
    "# Figure size\n",
    "plt.figure(figsize=(7, 5))\n",
    "# Scatterplot of Actual Data\n",
    "plt.scatter(X_test['R&D'], y_test, label='Actual', alpha=0.6)\n",
    "#Scatterplot of Predicted data\n",
    "plt.scatter(X_test['R&D'], y_pred_gb, label='Predicted', alpha=0.6, color='red')\n",
    "# X- Label\n",
    "plt.xlabel('R&D')\n",
    "#Y-Label\n",
    "plt.ylabel('Sales Growth)')\n",
    "# Titel\n",
    "plt.title('Test Set: Actual vs Predicted Sales Growth by R&D')\n",
    "#Key\n",
    "plt.legend()\n",
    "#Print Graph\n",
    "plt.show()"
   ]
  },
  {
   "cell_type": "markdown",
   "id": "03091ee3",
   "metadata": {},
   "source": [
    "### When a company increases its R&D spending in one year, does its sales growth accelerate in the subsequent year?"
   ]
  },
  {
   "cell_type": "markdown",
   "id": "fd41b8b2",
   "metadata": {},
   "source": [
    "Notes: Not enough data per company for AIRMA. Use OLS"
   ]
  },
  {
   "cell_type": "code",
   "execution_count": null,
   "id": "e33f49ed",
   "metadata": {},
   "outputs": [],
   "source": [
    "#Make copy of data\n",
    "data_9 = data_8.copy()"
   ]
  },
  {
   "cell_type": "code",
   "execution_count": null,
   "id": "3c2f3ee9",
   "metadata": {},
   "outputs": [],
   "source": [
    "# Group by Company ID and R&D. Shift one year\n",
    "data_9['R&D'] = data_9.groupby('Company_ID')['R&D'].shift(1)"
   ]
  },
  {
   "cell_type": "code",
   "execution_count": null,
   "id": "89bbed44",
   "metadata": {},
   "outputs": [],
   "source": [
    "# Drop Na\n",
    "data_9 = data_9[['Revenue', 'R&D', 'SIC_Industry']].dropna()"
   ]
  },
  {
   "cell_type": "code",
   "execution_count": null,
   "id": "94af3199",
   "metadata": {},
   "outputs": [],
   "source": [
    "# Revenue ~ Prior year R&D\n",
    "# Independ. Varb.\n",
    "X = data_9[['R&D']]\n",
    "# Add intercept\n",
    "X = sm.add_constant(X)\n",
    "# Depend. Varb.\n",
    "y = data_9['Revenue']"
   ]
  },
  {
   "cell_type": "code",
   "execution_count": null,
   "id": "3d7800bb",
   "metadata": {},
   "outputs": [],
   "source": [
    "# Fit Model\n",
    "model = sm.OLS(y, X).fit()"
   ]
  },
  {
   "cell_type": "code",
   "execution_count": null,
   "id": "9cbd0952",
   "metadata": {},
   "outputs": [],
   "source": [
    "print(model.summary())"
   ]
  },
  {
   "cell_type": "markdown",
   "id": "0bf7c3e2",
   "metadata": {},
   "source": [
    "Notes:\n",
    "- R&D coefficient = 10.15 | significant because p value is also p < .001\n",
    "- R²= 0.274 | means 27.4% of revenue variation explained by prior year’s R&D\n",
    "- Each 1 million increase in prior year’s R&D spending is associated with an average increase of about 10.15 million in revenue the following year.\n",
    "- The relationship is statistically significant (p < 0.001), suggesting a real effect.\n",
    "- R² = 0.27: Prior year R&D explains a portion of future revenue, but there are still many other factors."
   ]
  },
  {
   "cell_type": "markdown",
   "id": "014abfdf",
   "metadata": {},
   "source": [
    "### Classify companies into distinct groups, e.g., high investors, moderate investors, and low investors, based on their R&D spending and sales growth patterns."
   ]
  },
  {
   "cell_type": "code",
   "execution_count": null,
   "id": "f78608c4",
   "metadata": {},
   "outputs": [],
   "source": [
    "# Group companies by mean R&D and Sales Growth\n",
    "data_k = data_8.groupby('Company_ID').agg({'R&D': 'mean', \n",
    "                                         'Sales_Growth': 'mean'}).dropna()"
   ]
  },
  {
   "cell_type": "code",
   "execution_count": null,
   "id": "dafd2130",
   "metadata": {},
   "outputs": [],
   "source": [
    "# Scale, fit and transform the \n",
    "X_optK = StandardScaler().fit_transform(data_k[['R&D', 'Sales_Growth']])"
   ]
  },
  {
   "cell_type": "code",
   "execution_count": null,
   "id": "05caf8ea",
   "metadata": {},
   "outputs": [],
   "source": [
    "# Empty list for k clusters\n",
    "k_clus = []"
   ]
  },
  {
   "cell_type": "markdown",
   "id": "4f77e025",
   "metadata": {},
   "source": [
    "##### Elbow Graph - Find K-Cluster"
   ]
  },
  {
   "cell_type": "code",
   "execution_count": null,
   "id": "e6f7920b",
   "metadata": {},
   "outputs": [],
   "source": [
    "# Find Optimal Clster\n",
    "for k in range(1, 10):\n",
    "    # For each cluster fit a Kmeans model\n",
    "    km = KMeans(n_clusters=k, random_state=42).fit(X_optK)\n",
    "    # Append list\n",
    "    k_clus.append(km.inertia_)"
   ]
  },
  {
   "cell_type": "code",
   "execution_count": null,
   "id": "804e56f1",
   "metadata": {},
   "outputs": [],
   "source": [
    "# Figure size\n",
    "plt.figure(figsize=(7, 5))\n",
    "# Plot the k clusters and mark each one\n",
    "plt.plot(range(1,10), k_clus, marker='o')\n",
    "# Title\n",
    "plt.title('Elbow Method for Optimal K')\n",
    "# Print Graph\n",
    "plt.show()"
   ]
  },
  {
   "cell_type": "code",
   "execution_count": null,
   "id": "ac3cac4f",
   "metadata": {},
   "outputs": [],
   "source": [
    "# Allow KMeans clustering\n",
    "kmeans = KMeans(n_clusters=4, random_state=42)"
   ]
  },
  {
   "cell_type": "code",
   "execution_count": null,
   "id": "59987056",
   "metadata": {},
   "outputs": [],
   "source": [
    "# Data clusters to data table\n",
    "data_k['Cluster'] = kmeans.fit_predict(data_k[['R&D', 'Sales_Growth']])"
   ]
  },
  {
   "cell_type": "code",
   "execution_count": null,
   "id": "27fd001d",
   "metadata": {},
   "outputs": [],
   "source": [
    "data_k.head(5)"
   ]
  },
  {
   "cell_type": "code",
   "execution_count": null,
   "id": "e55d9729",
   "metadata": {},
   "outputs": [],
   "source": [
    "data_k['Cluster'].unique()"
   ]
  },
  {
   "cell_type": "code",
   "execution_count": null,
   "id": "1f2cbdb1",
   "metadata": {
    "scrolled": false
   },
   "outputs": [],
   "source": [
    "# Figure size\n",
    "plt.figure(figsize=(7, 5))\n",
    "# Make a box blot of the clusters (Sales Growth)\n",
    "sns.boxplot(x='Cluster', y='Sales_Growth', data=data_k)\n",
    "# Print graph\n",
    "plt.show()"
   ]
  },
  {
   "cell_type": "code",
   "execution_count": null,
   "id": "617e28eb",
   "metadata": {
    "scrolled": false
   },
   "outputs": [],
   "source": [
    "# Figure size\n",
    "plt.figure(figsize=(7, 5))\n",
    "# Make a box blot of the clusters (R&D)\n",
    "sns.boxplot(x='Cluster', y='R&D', data=data_k)\n",
    "# Print Graph\n",
    "plt.show()"
   ]
  },
  {
   "cell_type": "code",
   "execution_count": null,
   "id": "76e03161",
   "metadata": {},
   "outputs": [],
   "source": [
    "# Figure size\n",
    "plt.figure(figsize=(7, 5))\n",
    "# Scatter Plot of all the clusters\n",
    "sns.scatterplot(x='R&D', y='Sales_Growth', hue='Cluster', data=data_k, palette='tab10')\n",
    "# Print Graph\n",
    "plt.show()"
   ]
  },
  {
   "cell_type": "code",
   "execution_count": null,
   "id": "d47e0eb3",
   "metadata": {},
   "outputs": [],
   "source": []
  }
 ],
 "metadata": {
  "kernelspec": {
   "display_name": "Python 3 (ipykernel)",
   "language": "python",
   "name": "python3"
  },
  "language_info": {
   "codemirror_mode": {
    "name": "ipython",
    "version": 3
   },
   "file_extension": ".py",
   "mimetype": "text/x-python",
   "name": "python",
   "nbconvert_exporter": "python",
   "pygments_lexer": "ipython3",
   "version": "3.11.5"
  }
 },
 "nbformat": 4,
 "nbformat_minor": 5
}
